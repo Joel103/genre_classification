{
 "cells": [
  {
   "cell_type": "code",
   "execution_count": null,
   "metadata": {},
   "outputs": [],
   "source": [
    "import numpy as np\n",
    "import matplotlib.pyplot as plt\n",
    "from matplotlib.colors import LogNorm\n",
    "import seaborn as sns\n",
    "import annoy\n",
    "import pandas as pd\n",
    "\n",
    "%load_ext autoreload\n",
    "%autoreload 2\n",
    "from ann_utils import ANN"
   ]
  },
  {
   "cell_type": "code",
   "execution_count": null,
   "metadata": {},
   "outputs": [],
   "source": [
    "# softmax models\n",
    "#model = \"2021-02-20_16:57:56.170925\" # medium classifier\n",
    "#model = \"2021-02-21_13:51:24.722105\" # no classifier\n",
    "#model = \"2021-02-22_10:44:33.178333\" # small classifier\n",
    "\n",
    "# sigmoid models\n",
    "#model = \"2021-02-23_18:31:57.627258\" # no classifier\n",
    "#model = \"2021-02-24_08:33:26.520580\" # small classifier\n",
    "#model = \"2021-02-23_07:54:35.951167\" # medium classifier\n",
    "#model = \"2021-02-25_07:33:41.814662\" # no decoder"
   ]
  },
  {
   "cell_type": "code",
   "execution_count": null,
   "metadata": {},
   "outputs": [],
   "source": [
    "embedding_path = f\"models/{model}/fma_embeddings.npy\"\n",
    "label_path = f\"models/{model}/fma_labels.npy\"\n",
    "filename_path = \"data/fma_small_wav/filenames.npy\""
   ]
  },
  {
   "cell_type": "code",
   "execution_count": null,
   "metadata": {},
   "outputs": [],
   "source": [
    "ann = ANN(embedding_path, label_path, filename_path, -1)\n",
    "ann.supervised_evaluation(double_vote=False)"
   ]
  },
  {
   "cell_type": "code",
   "execution_count": null,
   "metadata": {},
   "outputs": [],
   "source": [
    "# this takes a very long time to compute (even longer than the evaluation)\n",
    "#ann.plot_tsne(size=1000) # how many random points you want to fit_transform "
   ]
  },
  {
   "cell_type": "code",
   "execution_count": null,
   "metadata": {},
   "outputs": [],
   "source": [
    "c_mat = ann.confusion_matrix\n",
    "\n",
    "fig, ax = plt.subplots(figsize=(8, 6), dpi=160)\n",
    "ax = sns.heatmap(c_mat/np.sum(c_mat, axis=1)[:,np.newaxis], ax = ax,\n",
    "                 fmt='.1%', annot=True, cmap='Blues', norm=LogNorm(1e-2,1),\n",
    "                xticklabels=ann.genre_names, yticklabels=ann.genre_names)\n",
    "\n",
    "ax.set_ylabel(\"Labels\")\n",
    "ax.set_xlabel(\"Predictions\")\n",
    "plt.setp(ax.get_xticklabels(), rotation=45, ha=\"right\",\n",
    "         rotation_mode=\"anchor\")\n",
    "ax.set_title(\"Confusion Matrix (in \\%)\");"
   ]
  },
  {
   "cell_type": "code",
   "execution_count": null,
   "metadata": {},
   "outputs": [],
   "source": [
    "report = ann.classification_report\n",
    "df = pd.DataFrame.from_dict(report).transpose()\n",
    "df.head(df.shape[0]-3)"
   ]
  },
  {
   "cell_type": "code",
   "execution_count": null,
   "metadata": {},
   "outputs": [],
   "source": [
    "df.tail(3)"
   ]
  }
 ],
 "metadata": {
  "kernelspec": {
   "display_name": "Python 3",
   "language": "python",
   "name": "python3"
  },
  "language_info": {
   "codemirror_mode": {
    "name": "ipython",
    "version": 3
   },
   "file_extension": ".py",
   "mimetype": "text/x-python",
   "name": "python",
   "nbconvert_exporter": "python",
   "pygments_lexer": "ipython3",
   "version": "3.6.9"
  }
 },
 "nbformat": 4,
 "nbformat_minor": 4
}
