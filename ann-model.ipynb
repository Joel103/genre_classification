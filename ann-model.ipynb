{
 "cells": [
  {
   "cell_type": "markdown",
   "metadata": {},
   "source": [
    "## Approximate Nearest Neighbors\n",
    "\n",
    "#### 01. Import SectionNearest Neighbors"
   ]
  },
  {
   "cell_type": "code",
   "execution_count": 2,
   "metadata": {},
   "outputs": [],
   "source": [
    "import numpy as np\n",
    "import tensorflow as tf\n",
    "import matplotlib.pyplot as plt\n",
    "import os\n",
    "import pickle\n",
    "\n",
    "\n",
    "from utils import save_dataset, load_dataset\n",
    "from prep_utils import wrapper_dict2tensor, wrapper_cast\n",
    "import time"
   ]
  },
  {
   "cell_type": "markdown",
   "metadata": {},
   "source": [
    "#### 02. Sample data"
   ]
  },
  {
   "cell_type": "code",
   "execution_count": 44,
   "metadata": {},
   "outputs": [],
   "source": [
    "class random_community():\n",
    "    def __init__(self, mu, sigma, sample_size, embedding_size, community_id):\n",
    "        self._mu = mu\n",
    "        self._sigma = sigma\n",
    "        self._sample_size = sample_size\n",
    "        self._embedding_size = embedding_size\n",
    "        \n",
    "        assert type(community_id)==int\n",
    "        self._id = community_id\n",
    "        \n",
    "        self.data = None\n",
    "    \n",
    "    def set_params(self, mu=None, sigma=None, size=None, embedding_size=None):\n",
    "        if mu is not None:\n",
    "            self._mu = mu\n",
    "        if sigma is not None:\n",
    "            self._sigma = sigma\n",
    "        if size is not None:\n",
    "            self._sample_size = sample_size\n",
    "        if embedding_size is not None:\n",
    "            self._embedding_size = embedding_size\n",
    "            \n",
    "    def generate_sample(self):\n",
    "        self.data = {}\n",
    "        self.data['embeddings'] = self._mu + self._sigma * np.random.randn(self._sample_size, self._embedding_size)\n",
    "        self.data['labels'] = self._id*np.ones(self._sample_size)\n",
    "        self.data['sample_id'] = [f'community_{self._id}-{i}' for i in range(self._sample_size)]\n",
    "    \n",
    "    def get_data(self):\n",
    "        assert self.data is not None\n",
    "        return self.data\n",
    "    \n",
    "    def get_id(self):\n",
    "        return self._id"
   ]
  },
  {
   "cell_type": "code",
   "execution_count": 325,
   "metadata": {},
   "outputs": [],
   "source": [
    "embedding_size = 2\n",
    "community_params = [[1, 0.5, 100],\n",
    "                    [0, 1, 50]]\n",
    "\n",
    "communities = []\n",
    "for _id, params in enumerate(community_params):\n",
    "    tmp = random_community(*params, embedding_size, _id)\n",
    "    tmp.generate_sample()\n",
    "    communities.append(tmp)"
   ]
  },
  {
   "cell_type": "code",
   "execution_count": 326,
   "metadata": {},
   "outputs": [],
   "source": [
    "data = {}\n",
    "data['embeddings'] = []\n",
    "data['labels'] = []\n",
    "data['sample_id'] = []\n",
    "for community in communities:\n",
    "    community_data = community.get_data()\n",
    "    data['embeddings'].extend(community_data['embeddings'])\n",
    "    data['labels'].extend(community_data['labels'])\n",
    "    data['sample_id'].extend(community_data['sample_id'])"
   ]
  },
  {
   "cell_type": "code",
   "execution_count": 327,
   "metadata": {},
   "outputs": [],
   "source": [
    "# generate test_data\n",
    "test_params = community_params[1][:2]\n",
    "test_community = random_community(*test_params, 5, embedding_size, community_id=1)\n",
    "test_community.generate_sample()"
   ]
  },
  {
   "cell_type": "code",
   "execution_count": 328,
   "metadata": {},
   "outputs": [
    {
     "data": {
      "image/png": "[encoded data removed]",
      "text/plain": [
       "<Figure size 720x288 with 1 Axes>"
      ]
     },
     "metadata": {
      "needs_background": "light"
     },
     "output_type": "display_data"
    }
   ],
   "source": [
    "# plot results for two communities and test_community\n",
    "plt.figure(figsize=(10,4))\n",
    "plt.scatter(communities[0].get_data()['embeddings'][:,0], communities[0].get_data()['embeddings'][:,1], c='blue', label='community_1')\n",
    "plt.scatter(communities[1].get_data()['embeddings'][:,0], communities[1].get_data()['embeddings'][:,1], c='orange', label='community_2')\n",
    "# test community\n",
    "plt.scatter(test_community.get_data()['embeddings'][:,0], test_community.get_data()['embeddings'][:,1], c='red', marker='x', label='test_community')\n",
    "\n",
    "plt.legend()\n",
    "\n",
    "plt.show()"
   ]
  },
  {
   "cell_type": "code",
   "execution_count": 329,
   "metadata": {},
   "outputs": [],
   "source": [
    "def local_wrapper_cast(x, key):\n",
    "    x[key] =  tf.cast(x[key], tf.float32)\n",
    "    return x"
   ]
  },
  {
   "cell_type": "code",
   "execution_count": 330,
   "metadata": {},
   "outputs": [
    {
     "data": {
      "text/plain": [
       "True"
      ]
     },
     "execution_count": 330,
     "metadata": {},
     "output_type": "execute_result"
    }
   ],
   "source": [
    "AUTOTUNE = tf.data.AUTOTUNE\n",
    "\n",
    "# build dataset similar to our embeddings - with labels\n",
    "dataset = tf.data.Dataset.from_tensor_slices(data)\n",
    "dataset = dataset.map(lambda x: local_wrapper_cast(x, 'embeddings'))\n",
    "\n",
    "save_dataset(dataset.map(lambda x: wrapper_dict2tensor(x, features=['embeddings']), num_parallel_calls=AUTOTUNE), './samples_ann/embeddings.record')\n",
    "save_dataset(dataset.map(lambda x: wrapper_dict2tensor(x, features=['labels']), num_parallel_calls=AUTOTUNE), './samples_ann/labels.record')\n",
    "\n",
    "\n",
    "# create test dataset\n",
    "test_dataset = tf.data.Dataset.from_tensor_slices(test_community.get_data())\n",
    "test_dataset = test_dataset.map(lambda x: local_wrapper_cast(x, 'embeddings'))\n",
    "\n",
    "save_dataset(test_dataset.map(lambda x: wrapper_dict2tensor(x, features=['embeddings']), num_parallel_calls=AUTOTUNE), './samples_ann/test_embeddings.record')\n",
    "save_dataset(test_dataset.map(lambda x: wrapper_dict2tensor(x, features=['labels']), num_parallel_calls=AUTOTUNE), './samples_ann/test_labels.record')"
   ]
  },
  {
   "cell_type": "markdown",
   "metadata": {},
   "source": [
    "## Now we work on ANN"
   ]
  },
  {
   "cell_type": "code",
   "execution_count": 331,
   "metadata": {},
   "outputs": [],
   "source": [
    "# !pip install annoy\n",
    "import annoy"
   ]
  },
  {
   "cell_type": "code",
   "execution_count": 332,
   "metadata": {},
   "outputs": [],
   "source": [
    "ann_metric = 'euclidean'\n",
    "annoy_index = annoy.AnnoyIndex(embedding_size, metric=ann_metric)\n",
    "mapping = {}"
   ]
  },
  {
   "cell_type": "code",
   "execution_count": 333,
   "metadata": {},
   "outputs": [
    {
     "name": "stdout",
     "output_type": "stream",
     "text": [
      "./samples_ann/embeddings.record\n"
     ]
    }
   ],
   "source": [
    "data_dir = './samples_ann'\n",
    "embedding_files = \"{}/embeddings.record\".format(data_dir)\n",
    "\n",
    "print(embedding_files)\n",
    "timestr = time.strftime(\"%Y%m%d-%H%M%S\")\n",
    "index_filename = f\"index_dir/index-{timestr}\"\n",
    "\n",
    "def _parse_example(x):\n",
    "    return tf.io.parse_tensor(x, tf.float32)"
   ]
  },
  {
   "cell_type": "code",
   "execution_count": 334,
   "metadata": {},
   "outputs": [],
   "source": [
    "def build_index(embedding_files_pattern, index_filename, vector_length, \n",
    "        metric='euclidean', num_trees=100):\n",
    "    '''Builds an ANNOY index'''\n",
    "\n",
    "    annoy_index = annoy.AnnoyIndex(vector_length, metric=metric)\n",
    "    # Mapping between the item and its identifier in the index\n",
    "    mapping = {}\n",
    "\n",
    "    embed_files = tf.io.gfile.glob(embedding_files_pattern)\n",
    "    num_files = len(embed_files)\n",
    "    print('Found {} embedding file(s).'.format(num_files))\n",
    "\n",
    "    item_counter = 0\n",
    "    for i, embed_file in enumerate(embed_files):\n",
    "        print('Loading embeddings in file {} of {}...'.format(i+1, num_files))\n",
    "#         dataset = tf.data.TFRecordDataset(embed_file)\n",
    "#         dataset=dataset\n",
    "        for record in dataset: #dataset.map(_parse_example):\n",
    "#             print(record)\n",
    "            text = record['sample_id'].numpy().decode(\"utf-8\")\n",
    "            embedding = record['embeddings'].numpy()\n",
    "            mapping[item_counter] = text\n",
    "            annoy_index.add_item(item_counter, embedding)\n",
    "            item_counter += 1\n",
    "            if item_counter % 100000 == 0:\n",
    "                print('{} items loaded to the index'.format(item_counter))\n",
    "\n",
    "    print('A total of {} items added to the index'.format(item_counter))\n",
    "\n",
    "    print('Building the index with {} trees...'.format(num_trees))\n",
    "    annoy_index.build(n_trees=num_trees)\n",
    "    print('Index is successfully built.')\n",
    "\n",
    "    print('Saving index to disk...')\n",
    "    annoy_index.save(index_filename)\n",
    "    print('Index is saved to disk.')\n",
    "    print(\"Index file size: {} GB\".format(\n",
    "        round(os.path.getsize(index_filename) / float(1024 ** 3), 2)))\n",
    "    annoy_index.unload()\n",
    "\n",
    "    print('Saving mapping to disk...')\n",
    "    with open(index_filename + '.mapping', 'wb') as handle:\n",
    "        pickle.dump(mapping, handle, protocol=pickle.HIGHEST_PROTOCOL)\n",
    "    print('Mapping is saved to disk.')\n",
    "    print(\"Mapping file size: {} MB\".format(\n",
    "        round(os.path.getsize(index_filename + '.mapping') / float(1024 ** 2), 2)))"
   ]
  },
  {
   "cell_type": "code",
   "execution_count": 335,
   "metadata": {},
   "outputs": [
    {
     "name": "stdout",
     "output_type": "stream",
     "text": [
      "Found 1 embedding file(s).\n",
      "Loading embeddings in file 1 of 1...\n",
      "A total of 150 items added to the index\n",
      "Building the index with 100 trees...\n",
      "Index is successfully built.\n",
      "Saving index to disk...\n",
      "Index is saved to disk.\n",
      "Index file size: 0.0 GB\n",
      "Saving mapping to disk...\n",
      "Mapping is saved to disk.\n",
      "Mapping file size: 0.0 MB\n",
      "Wall time: 75 ms\n"
     ]
    }
   ],
   "source": [
    "# os.remove(index_filename)\n",
    "# os.remove(index_filename+'.mapping')\n",
    "%time build_index(embedding_files, index_filename, embedding_size, metric=ann_metric)"
   ]
  },
  {
   "cell_type": "code",
   "execution_count": 336,
   "metadata": {},
   "outputs": [
    {
     "name": "stdout",
     "output_type": "stream",
     "text": [
      "Wall time: 0 ns\n",
      "Annoy index is loaded.\n",
      "Mapping file is loaded.\n"
     ]
    }
   ],
   "source": [
    "%time\n",
    "index = annoy.AnnoyIndex(embedding_size, ann_metric)\n",
    "index.load(index_filename, prefault=True)\n",
    "print('Annoy index is loaded.')\n",
    "with open(index_filename + '.mapping', 'rb') as handle:\n",
    "    mapping = pickle.load(handle)\n",
    "print('Mapping file is loaded.')"
   ]
  },
  {
   "cell_type": "code",
   "execution_count": 337,
   "metadata": {},
   "outputs": [],
   "source": [
    "def find_similar_items(embedding, num_matches=5):\n",
    "    '''Finds similar items to a given embedding in the ANN index'''\n",
    "    ids = index.get_nns_by_vector(\n",
    "    embedding, num_matches, search_k=-1, include_distances=False)\n",
    "    items = [mapping[i] for i in ids]\n",
    "    return items"
   ]
  },
  {
   "cell_type": "code",
   "execution_count": 338,
   "metadata": {},
   "outputs": [
    {
     "name": "stdout",
     "output_type": "stream",
     "text": [
      "[0.8236191 1.050405 ]\n"
     ]
    }
   ],
   "source": [
    "single_test_vector = list(test_dataset.as_numpy_iterator())[0]\n",
    "print(single_test_vector['embeddings'])\n"
   ]
  },
  {
   "cell_type": "code",
   "execution_count": 339,
   "metadata": {},
   "outputs": [],
   "source": [
    "def exctract_closest_cloud(closest_indivuals):\n",
    "    chosens = {}\n",
    "    for i, individual in enumerate(closest_indivuals):\n",
    "        community, member = individual.split('_')[1].split('-')\n",
    "        chosens[i] = [int(community), int(member)]\n",
    "    return chosens"
   ]
  },
  {
   "cell_type": "code",
   "execution_count": 343,
   "metadata": {},
   "outputs": [
    {
     "name": "stdout",
     "output_type": "stream",
     "text": [
      "Wall time: 0 ns\n"
     ]
    }
   ],
   "source": [
    "%time closest_indivuals = find_similar_items(single_test_vector['embeddings'], num_matches=10)\n",
    "\n",
    "closest_cloud = exctract_closest_cloud(closest_indivuals)"
   ]
  },
  {
   "cell_type": "code",
   "execution_count": 344,
   "metadata": {},
   "outputs": [
    {
     "name": "stdout",
     "output_type": "stream",
     "text": [
      "Wall time: 0 ns\n"
     ]
    }
   ],
   "source": [
    "from sklearn.neighbors import KNeighborsClassifier\n",
    "neigh = KNeighborsClassifier(n_neighbors=10)\n",
    "%time neigh.fit(np.array(data['embeddings']), np.array(data['labels']))\n",
    "%time k_neighbors = neigh.kneighbors(single_test_vector['embeddings'].reshape(-1, 2), return_distance=False)"
   ]
  },
  {
   "cell_type": "code",
   "execution_count": 345,
   "metadata": {},
   "outputs": [],
   "source": [
    "k_neighbors = k_neighbors.flatten()"
   ]
  },
  {
   "cell_type": "code",
   "execution_count": 346,
   "metadata": {},
   "outputs": [
    {
     "data": {
      "image/png": "[encoded data removed]",
      "text/plain": [
       "<Figure size 1440x576 with 1 Axes>"
      ]
     },
     "metadata": {
      "needs_background": "light"
     },
     "output_type": "display_data"
    }
   ],
   "source": [
    "# plot results for two communities and test_community\n",
    "plt.figure(figsize=(20,8))\n",
    "plt.scatter(communities[0].get_data()['embeddings'][:,0], communities[0].get_data()['embeddings'][:,1], c='blue', label='community_1', alpha=0.2)\n",
    "plt.scatter(communities[1].get_data()['embeddings'][:,0], communities[1].get_data()['embeddings'][:,1], c='orange', label='community_2', alpha=0.2)\n",
    "# test community\n",
    "plt.scatter(single_test_vector['embeddings'][0], single_test_vector['embeddings'][1], c='red', marker='x', label='test_community')\n",
    "# closest\n",
    "for point in closest_cloud.values():\n",
    "    plt.scatter(communities[point[0]].get_data()['embeddings'][point[1],0], communities[point[0]].get_data()['embeddings'][point[1],1], c='green')\n",
    "\n",
    "plt.legend()\n",
    "\n",
    "plt.show()"
   ]
  },
  {
   "cell_type": "code",
   "execution_count": 348,
   "metadata": {},
   "outputs": [
    {
     "data": {
      "image/png": "[encoded data removed]",
      "text/plain": [
       "<Figure size 576x576 with 1 Axes>"
      ]
     },
     "metadata": {
      "needs_background": "light"
     },
     "output_type": "display_data"
    }
   ],
   "source": [
    "# plot results for two communities and test_community\n",
    "plt.figure(figsize=(8,8))\n",
    "plt.scatter(communities[0].get_data()['embeddings'][:,0], communities[0].get_data()['embeddings'][:,1], c='blue', label='community_1', alpha=0.2)\n",
    "plt.scatter(communities[1].get_data()['embeddings'][:,0], communities[1].get_data()['embeddings'][:,1], c='orange', label='community_2', alpha=0.2)\n",
    "# test community\n",
    "plt.scatter(single_test_vector['embeddings'][0], single_test_vector['embeddings'][1], c='red', marker='x', label='test_community')\n",
    "# closest\n",
    "for point in k_neighbors:\n",
    "    plt.scatter(data['embeddings'][point][0], data['embeddings'][point][1], c='green')\n",
    "\n",
    "plt.legend()\n",
    "\n",
    "plt.show()"
   ]
  },
  {
   "cell_type": "markdown",
   "metadata": {},
   "source": [
    "## Next-Up: How do they perform on 1024-dim data? "
   ]
  },
  {
   "cell_type": "code",
   "execution_count": 358,
   "metadata": {},
   "outputs": [],
   "source": [
    "embedding_size = 1024\n",
    "community_params = [[1, 0.2, 10000],\n",
    "                    [0, 0.2, 20000]]\n",
    "\n",
    "communities = []\n",
    "for _id, params in enumerate(community_params):\n",
    "    tmp = random_community(*params, embedding_size, _id)\n",
    "    tmp.generate_sample()\n",
    "    communities.append(tmp)"
   ]
  },
  {
   "cell_type": "code",
   "execution_count": 359,
   "metadata": {},
   "outputs": [],
   "source": [
    "data = {}\n",
    "data['embeddings'] = []\n",
    "data['labels'] = []\n",
    "data['sample_id'] = []\n",
    "for community in communities:\n",
    "    community_data = community.get_data()\n",
    "    data['embeddings'].extend(community_data['embeddings'])\n",
    "    data['labels'].extend(community_data['labels'])\n",
    "    data['sample_id'].extend(community_data['sample_id'])"
   ]
  },
  {
   "cell_type": "code",
   "execution_count": 360,
   "metadata": {},
   "outputs": [
    {
     "data": {
      "text/plain": [
       "{'embeddings': array([[ 0.0194414 , -0.01170788,  0.15828995, ...,  0.31570143,\n",
       "          0.01851687, -0.33540843],\n",
       "        [ 0.03824445, -0.24797756,  0.31425252, ...,  0.04006774,\n",
       "         -0.15028706, -0.41199227],\n",
       "        [-0.05407442,  0.25931798, -0.04570635, ...,  0.0364051 ,\n",
       "          0.02747045,  0.20566359],\n",
       "        [-0.04919579,  0.16509743, -0.13208152, ..., -0.12121496,\n",
       "          0.04128367, -0.19323731],\n",
       "        [ 0.06154066,  0.00900953,  0.05425838, ..., -0.03264208,\n",
       "          0.2295908 , -0.00143458]]),\n",
       " 'labels': array([1., 1., 1., 1., 1.]),\n",
       " 'sample_id': ['community_1-0',\n",
       "  'community_1-1',\n",
       "  'community_1-2',\n",
       "  'community_1-3',\n",
       "  'community_1-4']}"
      ]
     },
     "execution_count": 360,
     "metadata": {},
     "output_type": "execute_result"
    }
   ],
   "source": [
    "# generate test_data\n",
    "test_params = community_params[1][:2]\n",
    "test_community = random_community(*test_params, 5, embedding_size, community_id=1)\n",
    "test_community.generate_sample()\n",
    "test_community.get_data()"
   ]
  },
  {
   "cell_type": "code",
   "execution_count": 361,
   "metadata": {},
   "outputs": [],
   "source": [
    "# # plot results for two communities and test_community\n",
    "# plt.figure(figsize=(10,4))\n",
    "# plt.scatter(communities[0].get_data()['embeddings'][:,0], communities[0].get_data()['embeddings'][:,1], c='blue', label='community_1')\n",
    "# plt.scatter(communities[1].get_data()['embeddings'][:,0], communities[1].get_data()['embeddings'][:,1], c='orange', label='community_2')\n",
    "# # test community\n",
    "# plt.scatter(test_community.get_data()['embeddings'][:,0], test_community.get_data()['embeddings'][:,1], c='red', marker='x', label='test_community')\n",
    "\n",
    "# plt.legend()\n",
    "\n",
    "# plt.show()"
   ]
  },
  {
   "cell_type": "code",
   "execution_count": 362,
   "metadata": {},
   "outputs": [],
   "source": [
    "def local_wrapper_cast(x, key):\n",
    "    x[key] =  tf.cast(x[key], tf.float32)\n",
    "    return x"
   ]
  },
  {
   "cell_type": "code",
   "execution_count": 363,
   "metadata": {},
   "outputs": [],
   "source": [
    "AUTOTUNE = tf.data.AUTOTUNE\n",
    "\n",
    "# build dataset similar to our embeddings - with labels\n",
    "dataset = tf.data.Dataset.from_tensor_slices(data)\n",
    "dataset = dataset.map(lambda x: local_wrapper_cast(x, 'embeddings'))\n",
    "\n",
    "\n",
    "\n",
    "\n",
    "# create test dataset\n",
    "test_dataset = tf.data.Dataset.from_tensor_slices(test_community.get_data())\n",
    "test_dataset = test_dataset.map(lambda x: local_wrapper_cast(x, 'embeddings'))"
   ]
  },
  {
   "cell_type": "code",
   "execution_count": 249,
   "metadata": {},
   "outputs": [
    {
     "data": {
      "text/plain": [
       "True"
      ]
     },
     "execution_count": 249,
     "metadata": {},
     "output_type": "execute_result"
    }
   ],
   "source": [
    "save_dataset(dataset.map(lambda x: wrapper_dict2tensor(x, features=['embeddings']), num_parallel_calls=AUTOTUNE), './samples_ann/embeddings.record')\n",
    "save_dataset(dataset.map(lambda x: wrapper_dict2tensor(x, features=['labels']), num_parallel_calls=AUTOTUNE), './samples_ann/labels.record')\n",
    "save_dataset(test_dataset.map(lambda x: wrapper_dict2tensor(x, features=['embeddings']), num_parallel_calls=AUTOTUNE), './samples_ann/test_embeddings.record')\n",
    "save_dataset(test_dataset.map(lambda x: wrapper_dict2tensor(x, features=['labels']), num_parallel_calls=AUTOTUNE), './samples_ann/test_labels.record')"
   ]
  },
  {
   "cell_type": "markdown",
   "metadata": {},
   "source": [
    "## Now we work on ANN"
   ]
  },
  {
   "cell_type": "code",
   "execution_count": 364,
   "metadata": {},
   "outputs": [],
   "source": [
    "# !pip install annoy\n",
    "import annoy"
   ]
  },
  {
   "cell_type": "code",
   "execution_count": 365,
   "metadata": {},
   "outputs": [],
   "source": [
    "ann_metric = 'euclidean'\n",
    "annoy_index = annoy.AnnoyIndex(embedding_size, metric=ann_metric)\n",
    "mapping = {}"
   ]
  },
  {
   "cell_type": "code",
   "execution_count": 366,
   "metadata": {},
   "outputs": [
    {
     "name": "stdout",
     "output_type": "stream",
     "text": [
      "./samples_ann/embeddings.record\n"
     ]
    }
   ],
   "source": [
    "data_dir = './samples_ann'\n",
    "embedding_files = \"{}/embeddings.record\".format(data_dir)\n",
    "\n",
    "print(embedding_files)\n",
    "timestr = time.strftime(\"%Y%m%d-%H%M%S\")\n",
    "index_filename = f\"index_dir/index-{timestr}\"\n",
    "\n",
    "def _parse_example(x):\n",
    "    return tf.io.parse_tensor(x, tf.float32)"
   ]
  },
  {
   "cell_type": "code",
   "execution_count": 367,
   "metadata": {},
   "outputs": [],
   "source": [
    "def build_index(embedding_files_pattern, index_filename, vector_length, \n",
    "        metric='euclidean', num_trees=100):\n",
    "    '''Builds an ANNOY index'''\n",
    "\n",
    "    annoy_index = annoy.AnnoyIndex(vector_length, metric=metric)\n",
    "    # Mapping between the item and its identifier in the index\n",
    "    mapping = {}\n",
    "\n",
    "    embed_files = tf.io.gfile.glob(embedding_files_pattern)\n",
    "    num_files = len(embed_files)\n",
    "    print('Found {} embedding file(s).'.format(num_files))\n",
    "\n",
    "    item_counter = 0\n",
    "    for i, embed_file in enumerate(embed_files):\n",
    "        print('Loading embeddings in file {} of {}...'.format(i+1, num_files))\n",
    "#         dataset = tf.data.TFRecordDataset(embed_file)\n",
    "#         dataset=dataset\n",
    "        for record in dataset: #dataset.map(_parse_example):\n",
    "#             print(record)\n",
    "            text = record['sample_id'].numpy().decode(\"utf-8\")\n",
    "            embedding = record['embeddings'].numpy()\n",
    "            mapping[item_counter] = text\n",
    "            annoy_index.add_item(item_counter, embedding)\n",
    "            item_counter += 1\n",
    "            if item_counter % 100000 == 0:\n",
    "                print('{} items loaded to the index'.format(item_counter))\n",
    "\n",
    "    print('A total of {} items added to the index'.format(item_counter))\n",
    "\n",
    "    print('Building the index with {} trees...'.format(num_trees))\n",
    "    annoy_index.build(n_trees=num_trees)\n",
    "    print('Index is successfully built.')\n",
    "\n",
    "    print('Saving index to disk...')\n",
    "    annoy_index.save(index_filename)\n",
    "    print('Index is saved to disk.')\n",
    "    print(\"Index file size: {} GB\".format(\n",
    "        round(os.path.getsize(index_filename) / float(1024 ** 3), 2)))\n",
    "    annoy_index.unload()\n",
    "\n",
    "    print('Saving mapping to disk...')\n",
    "    with open(index_filename + '.mapping', 'wb') as handle:\n",
    "        pickle.dump(mapping, handle, protocol=pickle.HIGHEST_PROTOCOL)\n",
    "    print('Mapping is saved to disk.')\n",
    "    print(\"Mapping file size: {} MB\".format(\n",
    "        round(os.path.getsize(index_filename + '.mapping') / float(1024 ** 2), 2)))"
   ]
  },
  {
   "cell_type": "code",
   "execution_count": 368,
   "metadata": {},
   "outputs": [
    {
     "name": "stdout",
     "output_type": "stream",
     "text": [
      "Found 1 embedding file(s).\n",
      "Loading embeddings in file 1 of 1...\n",
      "A total of 30000 items added to the index\n",
      "Building the index with 100 trees...\n",
      "Index is successfully built.\n",
      "Saving index to disk...\n",
      "Index is saved to disk.\n",
      "Index file size: 0.15 GB\n",
      "Saving mapping to disk...\n",
      "Mapping is saved to disk.\n",
      "Mapping file size: 0.64 MB\n",
      "Wall time: 18 s\n"
     ]
    }
   ],
   "source": [
    "# os.remove(index_filename)\n",
    "# os.remove(index_filename+'.mapping')\n",
    "%time build_index(embedding_files, index_filename, embedding_size, metric=ann_metric)"
   ]
  },
  {
   "cell_type": "code",
   "execution_count": 369,
   "metadata": {},
   "outputs": [
    {
     "name": "stdout",
     "output_type": "stream",
     "text": [
      "Wall time: 0 ns\n",
      "Annoy index is loaded.\n",
      "Mapping file is loaded.\n"
     ]
    }
   ],
   "source": [
    "%time\n",
    "index = annoy.AnnoyIndex(embedding_size, ann_metric)\n",
    "index.load(index_filename, prefault=True)\n",
    "print('Annoy index is loaded.')\n",
    "with open(index_filename + '.mapping', 'rb') as handle:\n",
    "    mapping = pickle.load(handle)\n",
    "print('Mapping file is loaded.')"
   ]
  },
  {
   "cell_type": "code",
   "execution_count": 370,
   "metadata": {},
   "outputs": [],
   "source": [
    "def find_similar_items(embedding, num_matches=5):\n",
    "    '''Finds similar items to a given embedding in the ANN index'''\n",
    "    ids = index.get_nns_by_vector(\n",
    "    embedding, num_matches, search_k=-1, include_distances=False)\n",
    "    items = [mapping[i] for i in ids]\n",
    "    return items"
   ]
  },
  {
   "cell_type": "code",
   "execution_count": 371,
   "metadata": {},
   "outputs": [
    {
     "name": "stdout",
     "output_type": "stream",
     "text": [
      "[ 0.0194414  -0.01170788  0.15828995 ...  0.31570143  0.01851687\n",
      " -0.33540842]\n"
     ]
    }
   ],
   "source": [
    "single_test_vector = list(test_dataset.as_numpy_iterator())[0]\n",
    "print(single_test_vector['embeddings'])\n"
   ]
  },
  {
   "cell_type": "code",
   "execution_count": 372,
   "metadata": {},
   "outputs": [],
   "source": [
    "def exctract_closest_cloud(closest_indivuals):\n",
    "    chosens = {}\n",
    "    for i, individual in enumerate(closest_indivuals):\n",
    "        community, member = individual.split('_')[1].split('-')\n",
    "        chosens[i] = [int(community), int(member)]\n",
    "    return chosens"
   ]
  },
  {
   "cell_type": "code",
   "execution_count": 375,
   "metadata": {},
   "outputs": [
    {
     "name": "stdout",
     "output_type": "stream",
     "text": [
      "Wall time: 33 ms\n"
     ]
    }
   ],
   "source": [
    "%time closest_indivuals = find_similar_items(single_test_vector['embeddings'], num_matches=100)\n",
    "\n",
    "closest_cloud = exctract_closest_cloud(closest_indivuals)"
   ]
  },
  {
   "cell_type": "code",
   "execution_count": 374,
   "metadata": {},
   "outputs": [
    {
     "name": "stdout",
     "output_type": "stream",
     "text": [
      "Wall time: 0 ns\n",
      "Wall time: 0 ns\n",
      "Wall time: 16.8 s\n",
      "Wall time: 38 ms\n"
     ]
    }
   ],
   "source": [
    "%time from sklearn.neighbors import KNeighborsClassifier\n",
    "%time neigh = KNeighborsClassifier(n_neighbors=100)\n",
    "%time neigh.fit(np.array(data['embeddings']), np.array(data['labels']))\n",
    "%time k_neighbors = neigh.kneighbors(single_test_vector['embeddings'].reshape(-1, embedding_size), return_distance=False)"
   ]
  },
  {
   "cell_type": "code",
   "execution_count": 314,
   "metadata": {},
   "outputs": [],
   "source": [
    "from sklearn.manifold import TSNE\n",
    "tsne = TSNE(n_components=2, random_state=0)\n",
    "\n",
    "whole_data = np.vstack((communities[0].get_data()['embeddings'], communities[1].get_data()['embeddings']))\n",
    "whole_data = np.vstack((whole_data, single_test_vector['embeddings']))"
   ]
  },
  {
   "cell_type": "code",
   "execution_count": 315,
   "metadata": {},
   "outputs": [],
   "source": [
    "whole_data_tsne = tsne.fit_transform(whole_data)"
   ]
  },
  {
   "cell_type": "code",
   "execution_count": 317,
   "metadata": {},
   "outputs": [],
   "source": [
    "tsne_communities = []\n",
    "tsne_communities.append(whole_data_tsne[:100, :])\n",
    "tsne_communities.append(whole_data_tsne[100:150, :])\n",
    "single_test_vector_test = whole_data_tsne[-1, :]"
   ]
  },
  {
   "cell_type": "code",
   "execution_count": 320,
   "metadata": {},
   "outputs": [
    {
     "data": {
      "text/plain": [
       "(100, 2)"
      ]
     },
     "execution_count": 320,
     "metadata": {},
     "output_type": "execute_result"
    }
   ],
   "source": [
    "tsne_communities[0].shape"
   ]
  },
  {
   "cell_type": "code",
   "execution_count": 319,
   "metadata": {},
   "outputs": [
    {
     "ename": "AttributeError",
     "evalue": "'numpy.ndarray' object has no attribute 'get_data'",
     "output_type": "error",
     "traceback": [
      "\u001b[1;31m---------------------------------------------------------------------------\u001b[0m",
      "\u001b[1;31mAttributeError\u001b[0m                            Traceback (most recent call last)",
      "\u001b[1;32m<ipython-input-319-0928b5af21ee>\u001b[0m in \u001b[0;36m<module>\u001b[1;34m\u001b[0m\n\u001b[0;32m      1\u001b[0m \u001b[1;31m# plot results for two communities and test_community\u001b[0m\u001b[1;33m\u001b[0m\u001b[1;33m\u001b[0m\u001b[1;33m\u001b[0m\u001b[0m\n\u001b[0;32m      2\u001b[0m \u001b[0mplt\u001b[0m\u001b[1;33m.\u001b[0m\u001b[0mfigure\u001b[0m\u001b[1;33m(\u001b[0m\u001b[0mfigsize\u001b[0m\u001b[1;33m=\u001b[0m\u001b[1;33m(\u001b[0m\u001b[1;36m20\u001b[0m\u001b[1;33m,\u001b[0m\u001b[1;36m8\u001b[0m\u001b[1;33m)\u001b[0m\u001b[1;33m)\u001b[0m\u001b[1;33m\u001b[0m\u001b[1;33m\u001b[0m\u001b[0m\n\u001b[1;32m----> 3\u001b[1;33m \u001b[0mplt\u001b[0m\u001b[1;33m.\u001b[0m\u001b[0mscatter\u001b[0m\u001b[1;33m(\u001b[0m\u001b[0mtsne_communities\u001b[0m\u001b[1;33m[\u001b[0m\u001b[1;36m0\u001b[0m\u001b[1;33m]\u001b[0m\u001b[1;33m.\u001b[0m\u001b[0mget_data\u001b[0m\u001b[1;33m(\u001b[0m\u001b[1;33m)\u001b[0m\u001b[1;33m[\u001b[0m\u001b[1;34m'embeddings'\u001b[0m\u001b[1;33m]\u001b[0m\u001b[1;33m[\u001b[0m\u001b[1;33m:\u001b[0m\u001b[1;33m,\u001b[0m\u001b[1;36m0\u001b[0m\u001b[1;33m]\u001b[0m\u001b[1;33m,\u001b[0m \u001b[0mtsne_communities\u001b[0m\u001b[1;33m[\u001b[0m\u001b[1;36m0\u001b[0m\u001b[1;33m]\u001b[0m\u001b[1;33m.\u001b[0m\u001b[0mget_data\u001b[0m\u001b[1;33m(\u001b[0m\u001b[1;33m)\u001b[0m\u001b[1;33m[\u001b[0m\u001b[1;34m'embeddings'\u001b[0m\u001b[1;33m]\u001b[0m\u001b[1;33m[\u001b[0m\u001b[1;33m:\u001b[0m\u001b[1;33m,\u001b[0m\u001b[1;36m1\u001b[0m\u001b[1;33m]\u001b[0m\u001b[1;33m,\u001b[0m \u001b[0mc\u001b[0m\u001b[1;33m=\u001b[0m\u001b[1;34m'blue'\u001b[0m\u001b[1;33m,\u001b[0m \u001b[0mlabel\u001b[0m\u001b[1;33m=\u001b[0m\u001b[1;34m'community_1'\u001b[0m\u001b[1;33m,\u001b[0m \u001b[0malpha\u001b[0m\u001b[1;33m=\u001b[0m\u001b[1;36m0.2\u001b[0m\u001b[1;33m)\u001b[0m\u001b[1;33m\u001b[0m\u001b[1;33m\u001b[0m\u001b[0m\n\u001b[0m\u001b[0;32m      4\u001b[0m \u001b[0mplt\u001b[0m\u001b[1;33m.\u001b[0m\u001b[0mscatter\u001b[0m\u001b[1;33m(\u001b[0m\u001b[0mtsne_communities\u001b[0m\u001b[1;33m[\u001b[0m\u001b[1;36m1\u001b[0m\u001b[1;33m]\u001b[0m\u001b[1;33m.\u001b[0m\u001b[0mget_data\u001b[0m\u001b[1;33m(\u001b[0m\u001b[1;33m)\u001b[0m\u001b[1;33m[\u001b[0m\u001b[1;34m'embeddings'\u001b[0m\u001b[1;33m]\u001b[0m\u001b[1;33m[\u001b[0m\u001b[1;33m:\u001b[0m\u001b[1;33m,\u001b[0m\u001b[1;36m0\u001b[0m\u001b[1;33m]\u001b[0m\u001b[1;33m,\u001b[0m \u001b[0mtsne_communities\u001b[0m\u001b[1;33m[\u001b[0m\u001b[1;36m1\u001b[0m\u001b[1;33m]\u001b[0m\u001b[1;33m.\u001b[0m\u001b[0mget_data\u001b[0m\u001b[1;33m(\u001b[0m\u001b[1;33m)\u001b[0m\u001b[1;33m[\u001b[0m\u001b[1;34m'embeddings'\u001b[0m\u001b[1;33m]\u001b[0m\u001b[1;33m[\u001b[0m\u001b[1;33m:\u001b[0m\u001b[1;33m,\u001b[0m\u001b[1;36m1\u001b[0m\u001b[1;33m]\u001b[0m\u001b[1;33m,\u001b[0m \u001b[0mc\u001b[0m\u001b[1;33m=\u001b[0m\u001b[1;34m'orange'\u001b[0m\u001b[1;33m,\u001b[0m \u001b[0mlabel\u001b[0m\u001b[1;33m=\u001b[0m\u001b[1;34m'community_2'\u001b[0m\u001b[1;33m,\u001b[0m \u001b[0malpha\u001b[0m\u001b[1;33m=\u001b[0m\u001b[1;36m0.2\u001b[0m\u001b[1;33m)\u001b[0m\u001b[1;33m\u001b[0m\u001b[1;33m\u001b[0m\u001b[0m\n\u001b[0;32m      5\u001b[0m \u001b[1;31m# test community\u001b[0m\u001b[1;33m\u001b[0m\u001b[1;33m\u001b[0m\u001b[1;33m\u001b[0m\u001b[0m\n",
      "\u001b[1;31mAttributeError\u001b[0m: 'numpy.ndarray' object has no attribute 'get_data'"
     ]
    },
    {
     "data": {
      "text/plain": [
       "<Figure size 1440x576 with 0 Axes>"
      ]
     },
     "metadata": {},
     "output_type": "display_data"
    }
   ],
   "source": [
    "# plot results for two communities and test_community\n",
    "plt.figure(figsize=(20,8))\n",
    "plt.scatter(tsne_communities[0].get_data()['embeddings'][:,0], tsne_communities[0].get_data()['embeddings'][:,1], c='blue', label='community_1', alpha=0.2)\n",
    "plt.scatter(tsne_communities[1].get_data()['embeddings'][:,0], tsne_communities[1].get_data()['embeddings'][:,1], c='orange', label='community_2', alpha=0.2)\n",
    "# test community\n",
    "plt.scatter(single_test_vector_test['embeddings'][0], single_test_vector_test['embeddings'][1], c='red', marker='x', label='test_community')\n",
    "# closest\n",
    "for point in closest_cloud.values():\n",
    "    plt.scatter(tsne_communities[point[0]].get_data()['embeddings'][point[1],0], tsne_communities[point[0]].get_data()['embeddings'][point[1],1], c='green')\n",
    "\n",
    "plt.legend()\n",
    "\n",
    "plt.show()"
   ]
  },
  {
   "cell_type": "code",
   "execution_count": 281,
   "metadata": {},
   "outputs": [
    {
     "data": {
      "image/png": "[encoded data removed]",
      "text/plain": [
       "<Figure size 1440x576 with 1 Axes>"
      ]
     },
     "metadata": {
      "needs_background": "light"
     },
     "output_type": "display_data"
    }
   ],
   "source": [
    "# plot results for two communities and test_community\n",
    "plt.figure(figsize=(20,8))\n",
    "plt.scatter(communities[0].get_data()['embeddings'][:,0], communities[0].get_data()['embeddings'][:,1], c='blue', label='community_1', alpha=0.2)\n",
    "plt.scatter(communities[1].get_data()['embeddings'][:,0], communities[1].get_data()['embeddings'][:,1], c='orange', label='community_2', alpha=0.2)\n",
    "# test community\n",
    "plt.scatter(single_test_vector['embeddings'][0], single_test_vector['embeddings'][1], c='red', marker='x', label='test_community')\n",
    "# closest\n",
    "for point in k_neighbors.flatten():\n",
    "    plt.scatter(data['embeddings'][point][0], data['embeddings'][point][1], c='green')\n",
    "\n",
    "plt.legend()\n",
    "\n",
    "plt.show()"
   ]
  },
  {
   "cell_type": "code",
   "execution_count": 276,
   "metadata": {},
   "outputs": [
    {
     "data": {
      "text/plain": [
       "array([[105, 124]], dtype=int64)"
      ]
     },
     "execution_count": 276,
     "metadata": {},
     "output_type": "execute_result"
    }
   ],
   "source": [
    "k_neighbors"
   ]
  },
  {
   "cell_type": "code",
   "execution_count": null,
   "metadata": {},
   "outputs": [],
   "source": []
  }
 ],
 "metadata": {
  "kernelspec": {
   "display_name": "dl4aed",
   "language": "python",
   "name": "dl4aed"
  },
  "language_info": {
   "codemirror_mode": {
    "name": "ipython",
    "version": 3
   },
   "file_extension": ".py",
   "mimetype": "text/x-python",
   "name": "python",
   "nbconvert_exporter": "python",
   "pygments_lexer": "ipython3",
   "version": "3.7.9"
  }
 },
 "nbformat": 4,
 "nbformat_minor": 4
}
