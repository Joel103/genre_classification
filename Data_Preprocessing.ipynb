{
 "cells": [
  {
   "cell_type": "markdown",
   "metadata": {},
   "source": [
    "# Data Preprocessing\n",
    "* needs to run once before training several models\n",
    "* downloads all files, which are not downloaded so far\n",
    "* saves a dataset consisting of already splitted log-mel specs"
   ]
  },
  {
   "cell_type": "code",
   "execution_count": null,
   "metadata": {},
   "outputs": [],
   "source": [
    "# set to \"True\" for the first time\n",
    "need_to_download_gtzan = False"
   ]
  },
  {
   "cell_type": "code",
   "execution_count": null,
   "metadata": {},
   "outputs": [],
   "source": [
    "%%bash\n",
    "# install and update required packages\n",
    "python3 -m pip install --upgrade pip -q\n",
    "python3 -m pip install -r requirements.txt -q"
   ]
  },
  {
   "cell_type": "code",
   "execution_count": null,
   "metadata": {},
   "outputs": [],
   "source": [
    "# used for dynamic changes within the code\n",
    "%reload_ext autoreload\n",
    "%autoreload 2"
   ]
  },
  {
   "cell_type": "code",
   "execution_count": null,
   "metadata": {},
   "outputs": [],
   "source": [
    "# allow for gpu growth and read the config for the data preparation\n",
    "from utils import load_config, allow_growth\n",
    "allow_growth()\n",
    "\n",
    "config = load_config(verbose=0)"
   ]
  },
  {
   "cell_type": "code",
   "execution_count": null,
   "metadata": {},
   "outputs": [],
   "source": [
    "# extract parameter classes\n",
    "data_parameter = config[\"data_parameter\"]"
   ]
  },
  {
   "cell_type": "code",
   "execution_count": null,
   "metadata": {},
   "outputs": [],
   "source": [
    "# some small amount of reproducibility (splitting the data)\n",
    "import tensorflow as tf\n",
    "import numpy as np\n",
    "tf.random.set_seed(data_parameter[\"seed\"])\n",
    "np.random.seed(data_parameter[\"seed\"])"
   ]
  },
  {
   "cell_type": "code",
   "execution_count": null,
   "metadata": {},
   "outputs": [],
   "source": [
    "# loads & preprocesses all datasets (FSD, GTZAN, FMA) and save them to disk\n",
    "from preprocessor import Preprocessor\n",
    "prep = Preprocessor(config=data_parameter)\n",
    "prep.create_logger()\n",
    "prep.load_fma()\n",
    "prep.load_data(download=need_to_download_gtzan)\n",
    "for mode in prep.available_modi:\n",
    "    prep.offline_preprocessing(mode)\n",
    "prep.save_mels()"
   ]
  }
 ],
 "metadata": {
  "kernelspec": {
   "display_name": "Python 3",
   "language": "python",
   "name": "python3"
  },
  "language_info": {
   "codemirror_mode": {
    "name": "ipython",
    "version": 3
   },
   "file_extension": ".py",
   "mimetype": "text/x-python",
   "name": "python",
   "nbconvert_exporter": "python",
   "pygments_lexer": "ipython3",
   "version": "3.6.9"
  }
 },
 "nbformat": 4,
 "nbformat_minor": 2
}
