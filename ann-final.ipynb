{
 "cells": [
  {
   "cell_type": "code",
   "execution_count": 12,
   "metadata": {},
   "outputs": [],
   "source": [
    "# !pip install annoy\n",
    "import numpy as np\n",
    "import matplotlib.pyplot as plt\n",
    "import seaborn as sns\n",
    "import annoy\n",
    "import pandas as pd\n",
    "from collections import Counter"
   ]
  },
  {
   "cell_type": "code",
   "execution_count": 277,
   "metadata": {},
   "outputs": [
    {
     "name": "stdout",
     "output_type": "stream",
     "text": [
      "Wall time: 0 ns\n",
      "Wall time: 0 ns\n",
      "Wall time: 51.1 s\n"
     ]
    },
    {
     "data": {
      "text/plain": [
       "KNeighborsClassifier(algorithm='auto', leaf_size=30, metric='minkowski',\n",
       "                     metric_params=None, n_jobs=None, n_neighbors=30, p=2,\n",
       "                     weights='uniform')"
      ]
     },
     "execution_count": 277,
     "metadata": {},
     "output_type": "execute_result"
    }
   ],
   "source": [
    "# %time from sklearn.neighbors import KNeighborsClassifier\n",
    "# %time neigh = KNeighborsClassifier(n_neighbors=30)\n",
    "# %time neigh.fit(full_embeddings, full_labels)\n",
    "# # %time k_neighbors = neigh.kneighbors(single_test_vector['embeddings'].reshape(-1, embedding_size), return_distance=False)"
   ]
  },
  {
   "cell_type": "code",
   "execution_count": 2,
   "metadata": {},
   "outputs": [],
   "source": [
    "%load_ext autoreload\n",
    "%autoreload 2\n",
    "from ann_utils import ANN"
   ]
  },
  {
   "cell_type": "code",
   "execution_count": 43,
   "metadata": {},
   "outputs": [
    {
     "name": "stdout",
     "output_type": "stream",
     "text": [
      "classification acc: 60.0% \n",
      "top_2 classification acc: 83.0%\n"
     ]
    }
   ],
   "source": [
    "ann_v5 = ANN('embeddings_v5.npy', 'labels_v5.npy', -1)\n",
    "ann_v5.supervised_evaluation()"
   ]
  },
  {
   "cell_type": "code",
   "execution_count": null,
   "metadata": {},
   "outputs": [],
   "source": [
    "ann_v5.plot_tsne(1000)"
   ]
  },
  {
   "cell_type": "code",
   "execution_count": 44,
   "metadata": {},
   "outputs": [
    {
     "data": {
      "image/png": "[encoded data removed]",
      "text/plain": [
       "<Figure size 432x288 with 2 Axes>"
      ]
     },
     "metadata": {
      "needs_background": "light"
     },
     "output_type": "display_data"
    }
   ],
   "source": [
    "fig = plt.figure()\n",
    "ax = fig.add_subplot(111)\n",
    "cax = ax.matshow(ann_v5.confusion_matrix)\n",
    "fig.colorbar(cax)\n",
    "plt.show()"
   ]
  },
  {
   "cell_type": "code",
   "execution_count": 46,
   "metadata": {},
   "outputs": [
    {
     "name": "stderr",
     "output_type": "stream",
     "text": [
      "C:\\Users\\BOUBAW\\AppData\\Local\\Continuum\\anaconda3\\envs\\dl4aed\\lib\\site-packages\\seaborn\\distributions.py:2557: FutureWarning: `distplot` is a deprecated function and will be removed in a future version. Please adapt your code to use either `displot` (a figure-level function with similar flexibility) or `histplot` (an axes-level function for histograms).\n",
      "  warnings.warn(msg, FutureWarning)\n"
     ]
    },
    {
     "data": {
      "image/png": "[encoded data removed]",
      "text/plain": [
       "<Figure size 432x288 with 1 Axes>"
      ]
     },
     "metadata": {
      "needs_background": "light"
     },
     "output_type": "display_data"
    }
   ],
   "source": [
    "sns.distplot(ann_v5.labels,np.arange(ann_v5.labels.min(), ann_v5.labels.max()+2),kde=False,hist_kws={\"align\" : \"left\"})\n",
    "plt.show()"
   ]
  },
  {
   "cell_type": "code",
   "execution_count": 49,
   "metadata": {},
   "outputs": [
    {
     "name": "stdout",
     "output_type": "stream",
     "text": [
      "               precision    recall  f1-score   support\n",
      "\n",
      "      Hip-Hop       0.74      0.65      0.69      9970\n",
      "          Pop       0.67      0.30      0.41     10000\n",
      "         Folk       0.61      0.68      0.64     10000\n",
      " Experimental       0.46      0.64      0.54      9990\n",
      "         Rock       0.57      0.75      0.65      9990\n",
      "International       0.62      0.66      0.64     10000\n",
      "   Electronic       0.60      0.59      0.59      9990\n",
      " Instrumental       0.69      0.56      0.62      9995\n",
      "\n",
      "     accuracy                           0.60     79935\n",
      "    macro avg       0.62      0.60      0.60     79935\n",
      " weighted avg       0.62      0.60      0.60     79935\n",
      "\n"
     ]
    }
   ],
   "source": [
    "print(ann_v5.classification_report)"
   ]
  },
  {
   "cell_type": "code",
   "execution_count": null,
   "metadata": {},
   "outputs": [
    {
     "name": "stdout",
     "output_type": "stream",
     "text": [
      "working on TSNE. Might take a while\n"
     ]
    }
   ],
   "source": [
    "ann_v5.plot_tsne(100)"
   ]
  },
  {
   "cell_type": "code",
   "execution_count": 3,
   "metadata": {},
   "outputs": [
    {
     "name": "stdout",
     "output_type": "stream",
     "text": [
      "classification acc: 61.0% \n",
      "top_2 classification acc: 84.0%\n"
     ]
    }
   ],
   "source": [
    "ann_v5_02 = ANN('embeddings_v5 (2).npy', 'labels_v5 (2).npy', -1)\n",
    "ann_v5_02.supervised_evaluation()"
   ]
  },
  {
   "cell_type": "code",
   "execution_count": 4,
   "metadata": {},
   "outputs": [
    {
     "data": {
      "image/png": "[encoded data removed]",
      "text/plain": [
       "<Figure size 432x288 with 2 Axes>"
      ]
     },
     "metadata": {
      "needs_background": "light"
     },
     "output_type": "display_data"
    }
   ],
   "source": [
    "fig = plt.figure()\n",
    "ax = fig.add_subplot(111)\n",
    "cax = ax.matshow(ann_v5_02.confusion_matrix)\n",
    "fig.colorbar(cax)\n",
    "plt.show()"
   ]
  },
  {
   "cell_type": "code",
   "execution_count": 5,
   "metadata": {},
   "outputs": [
    {
     "name": "stdout",
     "output_type": "stream",
     "text": [
      "               precision    recall  f1-score   support\n",
      "\n",
      "      Hip-Hop       0.74      0.67      0.71      9970\n",
      "          Pop       0.67      0.31      0.42     10000\n",
      "         Folk       0.61      0.68      0.64     10000\n",
      " Experimental       0.48      0.65      0.55      9990\n",
      "         Rock       0.58      0.76      0.66      9990\n",
      "International       0.63      0.66      0.65     10000\n",
      "   Electronic       0.60      0.61      0.60      9990\n",
      " Instrumental       0.71      0.56      0.62      9995\n",
      "\n",
      "     accuracy                           0.61     79935\n",
      "    macro avg       0.63      0.61      0.61     79935\n",
      " weighted avg       0.63      0.61      0.61     79935\n",
      "\n"
     ]
    }
   ],
   "source": [
    "print(ann_v5_02.classification_report)"
   ]
  },
  {
   "cell_type": "code",
   "execution_count": 8,
   "metadata": {},
   "outputs": [
    {
     "data": {
      "text/plain": [
       "array([b'datasets/fma_small_wav/000/000002.wav',\n",
       "       b'datasets/fma_small_wav/000/000002.wav',\n",
       "       b'datasets/fma_small_wav/000/000002.wav',\n",
       "       b'datasets/fma_small_wav/000/000002.wav',\n",
       "       b'datasets/fma_small_wav/000/000002.wav',\n",
       "       b'datasets/fma_small_wav/000/000002.wav',\n",
       "       b'datasets/fma_small_wav/000/000002.wav',\n",
       "       b'datasets/fma_small_wav/000/000002.wav',\n",
       "       b'datasets/fma_small_wav/000/000002.wav',\n",
       "       b'datasets/fma_small_wav/000/000002.wav',\n",
       "       b'datasets/fma_small_wav/000/000005.wav',\n",
       "       b'datasets/fma_small_wav/000/000005.wav',\n",
       "       b'datasets/fma_small_wav/000/000005.wav',\n",
       "       b'datasets/fma_small_wav/000/000005.wav',\n",
       "       b'datasets/fma_small_wav/000/000005.wav',\n",
       "       b'datasets/fma_small_wav/000/000005.wav',\n",
       "       b'datasets/fma_small_wav/000/000005.wav',\n",
       "       b'datasets/fma_small_wav/000/000005.wav',\n",
       "       b'datasets/fma_small_wav/000/000005.wav',\n",
       "       b'datasets/fma_small_wav/000/000005.wav'], dtype=object)"
      ]
     },
     "execution_count": 8,
     "metadata": {},
     "output_type": "execute_result"
    }
   ],
   "source": [
    "filenames[:20]"
   ]
  },
  {
   "cell_type": "code",
   "execution_count": 9,
   "metadata": {},
   "outputs": [],
   "source": [
    "embeddings = np.load('embeddings_v5 (2).npy', allow_pickle=True).squeeze()\n",
    "labels = np.load('labels_v5 (2).npy', allow_pickle=True)\n",
    "filenames = np.load('filenames.npy', allow_pickle=True)"
   ]
  },
  {
   "cell_type": "code",
   "execution_count": 25,
   "metadata": {},
   "outputs": [
    {
     "data": {
      "text/plain": [
       "(array([b'datasets/fma_small_wav/110/110230.wav',\n",
       "        b'datasets/fma_small_wav/000/000148.wav'], dtype='|S37'),\n",
       " b'datasets/fma_small_wav/000/000148.wav')"
      ]
     },
     "execution_count": 25,
     "metadata": {},
     "output_type": "execute_result"
    }
   ],
   "source": [
    "sample_id = 55\n",
    "\n",
    "\n",
    "sample_vec = embeddings[sample_id]\n",
    "predictions = ann_v5_02.annoy_index.get_nns_by_vector(sample_vec, 10, include_distances=False)\n",
    "np.array(Counter(filenames[predictions]).most_common())[:2,0], filenames[sample_id]"
   ]
  },
  {
   "cell_type": "code",
   "execution_count": 32,
   "metadata": {},
   "outputs": [],
   "source": [
    "catch = list()\n",
    "\n",
    "for sample_vec, filename in zip(embeddings, filenames):\n",
    "    predictions = ann_v5_02.annoy_index.get_nns_by_vector(sample_vec, 10, include_distances=False)\n",
    "    mc = np.array(Counter(filenames[predictions]).most_common())[:2,0]\n",
    "    \n",
    "    catch.append(filename in mc)"
   ]
  },
  {
   "cell_type": "code",
   "execution_count": 33,
   "metadata": {},
   "outputs": [],
   "source": [
    "perc = (np.sum(catch)/len(catch)) * 100"
   ]
  },
  {
   "cell_type": "code",
   "execution_count": 35,
   "metadata": {},
   "outputs": [
    {
     "name": "stdout",
     "output_type": "stream",
     "text": [
      "top-2 song-matching: 93.02%\n"
     ]
    }
   ],
   "source": [
    "print(f'top-2 song-matching: {np.round(perc, 2)}%')"
   ]
  },
  {
   "cell_type": "code",
   "execution_count": 36,
   "metadata": {},
   "outputs": [],
   "source": [
    "catch_single = list()\n",
    "\n",
    "for sample_vec, filename in zip(embeddings, filenames):\n",
    "    predictions = ann_v5_02.annoy_index.get_nns_by_vector(sample_vec, 10, include_distances=False)\n",
    "    mc = np.array(Counter(filenames[predictions]).most_common())[:1,0]\n",
    "    \n",
    "    catch_single.append(filename == mc[0])"
   ]
  },
  {
   "cell_type": "code",
   "execution_count": 38,
   "metadata": {},
   "outputs": [
    {
     "name": "stdout",
     "output_type": "stream",
     "text": [
      "top-1 song-matching: 76.16%\n"
     ]
    }
   ],
   "source": [
    "prec_single = (np.sum(catch_single)/len(catch_single)) * 100\n",
    "\n",
    "print(f'top-1 song-matching: {np.round(prec_single, 2)}%')"
   ]
  },
  {
   "cell_type": "code",
   "execution_count": 41,
   "metadata": {},
   "outputs": [],
   "source": [
    "catch_three = list()\n",
    "\n",
    "for sample_vec, filename in zip(embeddings, filenames):\n",
    "    predictions = ann_v5_02.annoy_index.get_nns_by_vector(sample_vec, 10, include_distances=False)\n",
    "    mc = np.array(Counter(filenames[predictions]).most_common())[:3,0]\n",
    "    \n",
    "    catch_three.append(filename in mc)"
   ]
  },
  {
   "cell_type": "code",
   "execution_count": 42,
   "metadata": {},
   "outputs": [
    {
     "name": "stdout",
     "output_type": "stream",
     "text": [
      "top-3 song-matching: 98.91%\n"
     ]
    }
   ],
   "source": [
    "prec_three = (np.sum(catch_three)/len(catch_three)) * 100\n",
    "\n",
    "print(f'top-3 song-matching: {np.round(prec_three, 2)}%')"
   ]
  }
 ],
 "metadata": {
  "kernelspec": {
   "display_name": "dl4aed",
   "language": "python",
   "name": "dl4aed"
  },
  "language_info": {
   "codemirror_mode": {
    "name": "ipython",
    "version": 3
   },
   "file_extension": ".py",
   "mimetype": "text/x-python",
   "name": "python",
   "nbconvert_exporter": "python",
   "pygments_lexer": "ipython3",
   "version": "3.7.9"
  }
 },
 "nbformat": 4,
 "nbformat_minor": 4
}
